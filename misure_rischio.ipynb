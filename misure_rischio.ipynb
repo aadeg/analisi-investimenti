{
 "cells": [
  {
   "cell_type": "markdown",
   "id": "613a2d2b",
   "metadata": {},
   "source": [
    "# Misure di rischio\n",
    "Basato su: [Paolo Coletti, Misure di rischio per investimenti](https://www.youtube.com/watch?v=cBKVs6CfjZU&pp=ygUWY29sZXR0aSBtaXN1cmUgcmlzY2hpbw%3D%3D)."
   ]
  },
  {
   "cell_type": "code",
   "execution_count": 1,
   "id": "4a92576e",
   "metadata": {},
   "outputs": [],
   "source": [
    "import numpy as np\n",
    "import pandas as pd\n",
    "import matplotlib\n",
    "import matplotlib.pyplot as plt\n",
    "import seaborn as sns\n",
    "import datetime\n",
    "sns.set_style(\"whitegrid\")\n",
    "# sns.set_theme()\n",
    "matplotlib.rcParams['figure.figsize'] = [9.0/2, 5.0/2]"
   ]
  },
  {
   "cell_type": "markdown",
   "id": "78ba2886",
   "metadata": {},
   "source": [
    "## Rendimenti mensili"
   ]
  },
  {
   "cell_type": "code",
   "execution_count": 2,
   "id": "ce49e0be",
   "metadata": {},
   "outputs": [],
   "source": [
    "n = 5000\n",
    "rm_df = pd.DataFrame()\n",
    "np.random.seed(1032039)"
   ]
  },
  {
   "cell_type": "markdown",
   "id": "b6a8ffab",
   "metadata": {},
   "source": [
    "### Testa croce"
   ]
  },
  {
   "cell_type": "code",
   "execution_count": 3,
   "id": "7d398c3d",
   "metadata": {},
   "outputs": [
    {
     "data": {
      "text/html": [
       "<div>\n",
       "<style scoped>\n",
       "    .dataframe tbody tr th:only-of-type {\n",
       "        vertical-align: middle;\n",
       "    }\n",
       "\n",
       "    .dataframe tbody tr th {\n",
       "        vertical-align: top;\n",
       "    }\n",
       "\n",
       "    .dataframe thead th {\n",
       "        text-align: right;\n",
       "    }\n",
       "</style>\n",
       "<table border=\"1\" class=\"dataframe\">\n",
       "  <thead>\n",
       "    <tr style=\"text-align: right;\">\n",
       "      <th></th>\n",
       "      <th>testa croce</th>\n",
       "    </tr>\n",
       "  </thead>\n",
       "  <tbody>\n",
       "    <tr>\n",
       "      <th>0</th>\n",
       "      <td>1.0</td>\n",
       "    </tr>\n",
       "    <tr>\n",
       "      <th>1</th>\n",
       "      <td>1.0</td>\n",
       "    </tr>\n",
       "    <tr>\n",
       "      <th>2</th>\n",
       "      <td>-1.0</td>\n",
       "    </tr>\n",
       "    <tr>\n",
       "      <th>3</th>\n",
       "      <td>-1.0</td>\n",
       "    </tr>\n",
       "    <tr>\n",
       "      <th>4</th>\n",
       "      <td>1.0</td>\n",
       "    </tr>\n",
       "  </tbody>\n",
       "</table>\n",
       "</div>"
      ],
      "text/plain": [
       "   testa croce\n",
       "0          1.0\n",
       "1          1.0\n",
       "2         -1.0\n",
       "3         -1.0\n",
       "4          1.0"
      ]
     },
     "execution_count": 3,
     "metadata": {},
     "output_type": "execute_result"
    }
   ],
   "source": [
    "rm_df[\"testa croce\"] = np.sign(np.random.rand(n) - 0.5)\n",
    "rm_df.head()    "
   ]
  },
  {
   "cell_type": "code",
   "execution_count": 4,
   "id": "a8cb1f78",
   "metadata": {},
   "outputs": [
    {
     "data": {
      "image/png": "[encoded data removed]",
      "text/plain": [
       "<Figure size 450x250 with 1 Axes>"
      ]
     },
     "metadata": {},
     "output_type": "display_data"
    }
   ],
   "source": [
    "rm_df.plot(y=\"testa croce\", kind=\"hist\");"
   ]
  },
  {
   "cell_type": "markdown",
   "id": "e0d7e45c",
   "metadata": {},
   "source": [
    "### Roulette\n"
   ]
  },
  {
   "cell_type": "code",
   "execution_count": 5,
   "id": "d7ecdbf0",
   "metadata": {},
   "outputs": [
    {
     "data": {
      "text/html": [
       "<div>\n",
       "<style scoped>\n",
       "    .dataframe tbody tr th:only-of-type {\n",
       "        vertical-align: middle;\n",
       "    }\n",
       "\n",
       "    .dataframe tbody tr th {\n",
       "        vertical-align: top;\n",
       "    }\n",
       "\n",
       "    .dataframe thead th {\n",
       "        text-align: right;\n",
       "    }\n",
       "</style>\n",
       "<table border=\"1\" class=\"dataframe\">\n",
       "  <thead>\n",
       "    <tr style=\"text-align: right;\">\n",
       "      <th></th>\n",
       "      <th>testa croce</th>\n",
       "      <th>roulette</th>\n",
       "    </tr>\n",
       "  </thead>\n",
       "  <tbody>\n",
       "    <tr>\n",
       "      <th>0</th>\n",
       "      <td>1.0</td>\n",
       "      <td>-1</td>\n",
       "    </tr>\n",
       "    <tr>\n",
       "      <th>1</th>\n",
       "      <td>1.0</td>\n",
       "      <td>-1</td>\n",
       "    </tr>\n",
       "    <tr>\n",
       "      <th>2</th>\n",
       "      <td>-1.0</td>\n",
       "      <td>-1</td>\n",
       "    </tr>\n",
       "    <tr>\n",
       "      <th>3</th>\n",
       "      <td>-1.0</td>\n",
       "      <td>-1</td>\n",
       "    </tr>\n",
       "    <tr>\n",
       "      <th>4</th>\n",
       "      <td>1.0</td>\n",
       "      <td>-1</td>\n",
       "    </tr>\n",
       "  </tbody>\n",
       "</table>\n",
       "</div>"
      ],
      "text/plain": [
       "   testa croce  roulette\n",
       "0          1.0        -1\n",
       "1          1.0        -1\n",
       "2         -1.0        -1\n",
       "3         -1.0        -1\n",
       "4          1.0        -1"
      ]
     },
     "execution_count": 5,
     "metadata": {},
     "output_type": "execute_result"
    }
   ],
   "source": [
    "numbers = np.random.randint(0, 36, size=(n, ))\n",
    "\n",
    "rm_df[\"roulette\"] = np.full((n, ), -1)\n",
    "rm_df.loc[numbers == 1, \"roulette\"] = 36\n",
    "rm_df.head()"
   ]
  },
  {
   "cell_type": "code",
   "execution_count": 6,
   "id": "c439f10a",
   "metadata": {},
   "outputs": [
    {
     "data": {
      "image/png": "[encoded data removed]",
      "text/plain": [
       "<Figure size 450x250 with 1 Axes>"
      ]
     },
     "metadata": {},
     "output_type": "display_data"
    }
   ],
   "source": [
    "rm_df.plot(y=\"roulette\", kind=\"hist\");"
   ]
  },
  {
   "cell_type": "markdown",
   "id": "debfd5d9",
   "metadata": {},
   "source": [
    "### Turista per sempre"
   ]
  },
  {
   "cell_type": "code",
   "execution_count": 7,
   "id": "7a889284",
   "metadata": {},
   "outputs": [
    {
     "data": {
      "text/html": [
       "<div>\n",
       "<style scoped>\n",
       "    .dataframe tbody tr th:only-of-type {\n",
       "        vertical-align: middle;\n",
       "    }\n",
       "\n",
       "    .dataframe tbody tr th {\n",
       "        vertical-align: top;\n",
       "    }\n",
       "\n",
       "    .dataframe thead th {\n",
       "        text-align: right;\n",
       "    }\n",
       "</style>\n",
       "<table border=\"1\" class=\"dataframe\">\n",
       "  <thead>\n",
       "    <tr style=\"text-align: right;\">\n",
       "      <th></th>\n",
       "      <th>vincita</th>\n",
       "      <th>qt</th>\n",
       "      <th>1_qt</th>\n",
       "      <th>prob</th>\n",
       "      <th>prob cum</th>\n",
       "    </tr>\n",
       "  </thead>\n",
       "  <tbody>\n",
       "    <tr>\n",
       "      <th>0</th>\n",
       "      <td>1936849.0</td>\n",
       "      <td>12.0</td>\n",
       "      <td>4.560000e+06</td>\n",
       "      <td>2.192982e-07</td>\n",
       "      <td>2.192982e-07</td>\n",
       "    </tr>\n",
       "    <tr>\n",
       "      <th>1</th>\n",
       "      <td>50000.0</td>\n",
       "      <td>24.0</td>\n",
       "      <td>2.280000e+06</td>\n",
       "      <td>4.385965e-07</td>\n",
       "      <td>6.578947e-07</td>\n",
       "    </tr>\n",
       "    <tr>\n",
       "      <th>2</th>\n",
       "      <td>10000.0</td>\n",
       "      <td>96.0</td>\n",
       "      <td>5.700000e+05</td>\n",
       "      <td>1.754386e-06</td>\n",
       "      <td>2.412281e-06</td>\n",
       "    </tr>\n",
       "    <tr>\n",
       "      <th>3</th>\n",
       "      <td>5000.0</td>\n",
       "      <td>204.0</td>\n",
       "      <td>2.682353e+05</td>\n",
       "      <td>3.728070e-06</td>\n",
       "      <td>6.140351e-06</td>\n",
       "    </tr>\n",
       "    <tr>\n",
       "      <th>4</th>\n",
       "      <td>1000.0</td>\n",
       "      <td>3648.0</td>\n",
       "      <td>1.500000e+04</td>\n",
       "      <td>6.666667e-05</td>\n",
       "      <td>7.280702e-05</td>\n",
       "    </tr>\n",
       "  </tbody>\n",
       "</table>\n",
       "</div>"
      ],
      "text/plain": [
       "     vincita      qt          1_qt          prob      prob cum\n",
       "0  1936849.0    12.0  4.560000e+06  2.192982e-07  2.192982e-07\n",
       "1    50000.0    24.0  2.280000e+06  4.385965e-07  6.578947e-07\n",
       "2    10000.0    96.0  5.700000e+05  1.754386e-06  2.412281e-06\n",
       "3     5000.0   204.0  2.682353e+05  3.728070e-06  6.140351e-06\n",
       "4     1000.0  3648.0  1.500000e+04  6.666667e-05  7.280702e-05"
      ]
     },
     "execution_count": 7,
     "metadata": {},
     "output_type": "execute_result"
    }
   ],
   "source": [
    "turista_df = pd.read_csv(\"dati/turista_per_sempre.csv\")\n",
    "turista_df.head()"
   ]
  },
  {
   "cell_type": "code",
   "execution_count": 8,
   "id": "8eeada8a",
   "metadata": {},
   "outputs": [
    {
     "data": {
      "text/html": [
       "<div>\n",
       "<style scoped>\n",
       "    .dataframe tbody tr th:only-of-type {\n",
       "        vertical-align: middle;\n",
       "    }\n",
       "\n",
       "    .dataframe tbody tr th {\n",
       "        vertical-align: top;\n",
       "    }\n",
       "\n",
       "    .dataframe thead th {\n",
       "        text-align: right;\n",
       "    }\n",
       "</style>\n",
       "<table border=\"1\" class=\"dataframe\">\n",
       "  <thead>\n",
       "    <tr style=\"text-align: right;\">\n",
       "      <th></th>\n",
       "      <th>testa croce</th>\n",
       "      <th>roulette</th>\n",
       "      <th>turista</th>\n",
       "    </tr>\n",
       "  </thead>\n",
       "  <tbody>\n",
       "    <tr>\n",
       "      <th>0</th>\n",
       "      <td>1.0</td>\n",
       "      <td>-1</td>\n",
       "      <td>-1.0</td>\n",
       "    </tr>\n",
       "    <tr>\n",
       "      <th>1</th>\n",
       "      <td>1.0</td>\n",
       "      <td>-1</td>\n",
       "      <td>-1.0</td>\n",
       "    </tr>\n",
       "    <tr>\n",
       "      <th>2</th>\n",
       "      <td>-1.0</td>\n",
       "      <td>-1</td>\n",
       "      <td>-1.0</td>\n",
       "    </tr>\n",
       "    <tr>\n",
       "      <th>3</th>\n",
       "      <td>-1.0</td>\n",
       "      <td>-1</td>\n",
       "      <td>-1.0</td>\n",
       "    </tr>\n",
       "    <tr>\n",
       "      <th>4</th>\n",
       "      <td>1.0</td>\n",
       "      <td>-1</td>\n",
       "      <td>-1.0</td>\n",
       "    </tr>\n",
       "  </tbody>\n",
       "</table>\n",
       "</div>"
      ],
      "text/plain": [
       "   testa croce  roulette  turista\n",
       "0          1.0        -1     -1.0\n",
       "1          1.0        -1     -1.0\n",
       "2         -1.0        -1     -1.0\n",
       "3         -1.0        -1     -1.0\n",
       "4          1.0        -1     -1.0"
      ]
     },
     "execution_count": 8,
     "metadata": {},
     "output_type": "execute_result"
    }
   ],
   "source": [
    "costo = 5\n",
    "idx = np.random.choice(turista_df.index, size=(n, ), p=turista_df.prob)\n",
    "rm_df[\"turista\"] = (turista_df.vincita.loc[idx].to_numpy() / costo) - 1\n",
    "rm_df.head()"
   ]
  },
  {
   "cell_type": "code",
   "execution_count": 9,
   "id": "9cd2e7fc",
   "metadata": {},
   "outputs": [
    {
     "data": {
      "image/png": "[encoded data removed]",
      "text/plain": [
       "<Figure size 450x250 with 1 Axes>"
      ]
     },
     "metadata": {},
     "output_type": "display_data"
    }
   ],
   "source": [
    "rm_df.plot(y=\"turista\", kind=\"hist\", logy=True);"
   ]
  },
  {
   "cell_type": "markdown",
   "id": "92b182ee",
   "metadata": {},
   "source": [
    "### Turista per sempre x 1000"
   ]
  },
  {
   "cell_type": "code",
   "execution_count": 10,
   "id": "32e064e5",
   "metadata": {},
   "outputs": [
    {
     "data": {
      "text/html": [
       "<div>\n",
       "<style scoped>\n",
       "    .dataframe tbody tr th:only-of-type {\n",
       "        vertical-align: middle;\n",
       "    }\n",
       "\n",
       "    .dataframe tbody tr th {\n",
       "        vertical-align: top;\n",
       "    }\n",
       "\n",
       "    .dataframe thead th {\n",
       "        text-align: right;\n",
       "    }\n",
       "</style>\n",
       "<table border=\"1\" class=\"dataframe\">\n",
       "  <thead>\n",
       "    <tr style=\"text-align: right;\">\n",
       "      <th></th>\n",
       "      <th>testa croce</th>\n",
       "      <th>roulette</th>\n",
       "      <th>turista</th>\n",
       "      <th>turista x1000</th>\n",
       "    </tr>\n",
       "  </thead>\n",
       "  <tbody>\n",
       "    <tr>\n",
       "      <th>0</th>\n",
       "      <td>1.0</td>\n",
       "      <td>-1</td>\n",
       "      <td>-1.0</td>\n",
       "      <td>-0.392</td>\n",
       "    </tr>\n",
       "    <tr>\n",
       "      <th>1</th>\n",
       "      <td>1.0</td>\n",
       "      <td>-1</td>\n",
       "      <td>-1.0</td>\n",
       "      <td>-0.466</td>\n",
       "    </tr>\n",
       "    <tr>\n",
       "      <th>2</th>\n",
       "      <td>-1.0</td>\n",
       "      <td>-1</td>\n",
       "      <td>-1.0</td>\n",
       "      <td>-0.484</td>\n",
       "    </tr>\n",
       "    <tr>\n",
       "      <th>3</th>\n",
       "      <td>-1.0</td>\n",
       "      <td>-1</td>\n",
       "      <td>-1.0</td>\n",
       "      <td>-0.461</td>\n",
       "    </tr>\n",
       "    <tr>\n",
       "      <th>4</th>\n",
       "      <td>1.0</td>\n",
       "      <td>-1</td>\n",
       "      <td>-1.0</td>\n",
       "      <td>-0.331</td>\n",
       "    </tr>\n",
       "  </tbody>\n",
       "</table>\n",
       "</div>"
      ],
      "text/plain": [
       "   testa croce  roulette  turista  turista x1000\n",
       "0          1.0        -1     -1.0         -0.392\n",
       "1          1.0        -1     -1.0         -0.466\n",
       "2         -1.0        -1     -1.0         -0.484\n",
       "3         -1.0        -1     -1.0         -0.461\n",
       "4          1.0        -1     -1.0         -0.331"
      ]
     },
     "execution_count": 10,
     "metadata": {},
     "output_type": "execute_result"
    }
   ],
   "source": [
    "n_giocate = 1000\n",
    "costo = 5\n",
    "idx = np.random.choice(turista_df.index, size=(n*n_giocate, ), p=turista_df.prob)\n",
    "vincita_singola = turista_df.vincita.loc[idx].to_numpy()\n",
    "vincita = vincita_singola.reshape((n, n_giocate)).sum(axis=1)\n",
    "rm_df[\"turista x1000\"] = vincita / (costo * n_giocate) - 1\n",
    "rm_df.head()"
   ]
  },
  {
   "cell_type": "code",
   "execution_count": 11,
   "id": "714f6fd2",
   "metadata": {},
   "outputs": [
    {
     "data": {
      "image/png": "[encoded data removed]",
      "text/plain": [
       "<Figure size 450x250 with 1 Axes>"
      ]
     },
     "metadata": {},
     "output_type": "display_data"
    }
   ],
   "source": [
    "rm_df.plot(y=\"turista x1000\", kind=\"hist\", logy=True);"
   ]
  },
  {
   "cell_type": "markdown",
   "id": "67a348fd",
   "metadata": {},
   "source": [
    "## Statistiche"
   ]
  },
  {
   "cell_type": "code",
   "execution_count": 12,
   "id": "f5a29c9b",
   "metadata": {},
   "outputs": [
    {
     "data": {
      "text/html": [
       "<div>\n",
       "<style scoped>\n",
       "    .dataframe tbody tr th:only-of-type {\n",
       "        vertical-align: middle;\n",
       "    }\n",
       "\n",
       "    .dataframe tbody tr th {\n",
       "        vertical-align: top;\n",
       "    }\n",
       "\n",
       "    .dataframe thead th {\n",
       "        text-align: right;\n",
       "    }\n",
       "</style>\n",
       "<table border=\"1\" class=\"dataframe\">\n",
       "  <thead>\n",
       "    <tr style=\"text-align: right;\">\n",
       "      <th></th>\n",
       "      <th>testa croce</th>\n",
       "      <th>roulette</th>\n",
       "      <th>turista</th>\n",
       "      <th>turista x1000</th>\n",
       "    </tr>\n",
       "  </thead>\n",
       "  <tbody>\n",
       "    <tr>\n",
       "      <th>count</th>\n",
       "      <td>5000.0000</td>\n",
       "      <td>5000.000000</td>\n",
       "      <td>5000.000000</td>\n",
       "      <td>5000.000000</td>\n",
       "    </tr>\n",
       "    <tr>\n",
       "      <th>mean</th>\n",
       "      <td>0.0004</td>\n",
       "      <td>0.050800</td>\n",
       "      <td>-0.361200</td>\n",
       "      <td>-0.199837</td>\n",
       "    </tr>\n",
       "    <tr>\n",
       "      <th>std</th>\n",
       "      <td>1.0001</td>\n",
       "      <td>6.146786</td>\n",
       "      <td>2.702627</td>\n",
       "      <td>7.752007</td>\n",
       "    </tr>\n",
       "    <tr>\n",
       "      <th>min</th>\n",
       "      <td>-1.0000</td>\n",
       "      <td>-1.000000</td>\n",
       "      <td>-1.000000</td>\n",
       "      <td>-0.609000</td>\n",
       "    </tr>\n",
       "    <tr>\n",
       "      <th>25%</th>\n",
       "      <td>-1.0000</td>\n",
       "      <td>-1.000000</td>\n",
       "      <td>-1.000000</td>\n",
       "      <td>-0.428000</td>\n",
       "    </tr>\n",
       "    <tr>\n",
       "      <th>50%</th>\n",
       "      <td>1.0000</td>\n",
       "      <td>-1.000000</td>\n",
       "      <td>-1.000000</td>\n",
       "      <td>-0.383000</td>\n",
       "    </tr>\n",
       "    <tr>\n",
       "      <th>75%</th>\n",
       "      <td>1.0000</td>\n",
       "      <td>-1.000000</td>\n",
       "      <td>0.000000</td>\n",
       "      <td>-0.328000</td>\n",
       "    </tr>\n",
       "    <tr>\n",
       "      <th>max</th>\n",
       "      <td>1.0000</td>\n",
       "      <td>36.000000</td>\n",
       "      <td>99.000000</td>\n",
       "      <td>387.018800</td>\n",
       "    </tr>\n",
       "  </tbody>\n",
       "</table>\n",
       "</div>"
      ],
      "text/plain": [
       "       testa croce     roulette      turista  turista x1000\n",
       "count    5000.0000  5000.000000  5000.000000    5000.000000\n",
       "mean        0.0004     0.050800    -0.361200      -0.199837\n",
       "std         1.0001     6.146786     2.702627       7.752007\n",
       "min        -1.0000    -1.000000    -1.000000      -0.609000\n",
       "25%        -1.0000    -1.000000    -1.000000      -0.428000\n",
       "50%         1.0000    -1.000000    -1.000000      -0.383000\n",
       "75%         1.0000    -1.000000     0.000000      -0.328000\n",
       "max         1.0000    36.000000    99.000000     387.018800"
      ]
     },
     "execution_count": 12,
     "metadata": {},
     "output_type": "execute_result"
    }
   ],
   "source": [
    "rm_df.describe()"
   ]
  },
  {
   "cell_type": "code",
   "execution_count": 13,
   "id": "9b979fa0",
   "metadata": {},
   "outputs": [
    {
     "data": {
      "text/plain": [
       "<Axes: >"
      ]
     },
     "execution_count": 13,
     "metadata": {},
     "output_type": "execute_result"
    },
    {
     "data": {
      "image/png": "[encoded data removed]",
      "text/plain": [
       "<Figure size 450x500 with 1 Axes>"
      ]
     },
     "metadata": {},
     "output_type": "display_data"
    }
   ],
   "source": [
    "rm_df.plot(kind=\"box\", figsize=(4.5, 5.0), ylim=(-1.5, 40))"
   ]
  },
  {
   "cell_type": "markdown",
   "id": "91436c21",
   "metadata": {},
   "source": [
    "### Indice di Sharpe"
   ]
  },
  {
   "cell_type": "code",
   "execution_count": 14,
   "id": "aa50c918",
   "metadata": {},
   "outputs": [
    {
     "data": {
      "text/plain": [
       "testa croce      0.000400\n",
       "roulette         0.008264\n",
       "turista         -0.133648\n",
       "turista x1000   -0.025779\n",
       "dtype: float64"
      ]
     },
     "execution_count": 14,
     "metadata": {},
     "output_type": "execute_result"
    }
   ],
   "source": [
    "sharpe = rm_df.mean() / rm_df.std()\n",
    "sharpe"
   ]
  },
  {
   "cell_type": "markdown",
   "id": "a30631ad",
   "metadata": {},
   "source": [
    "### VaR\n",
    "Value at Risk\n",
    "\n",
    "È il 5-percetile della distribuzione."
   ]
  },
  {
   "cell_type": "code",
   "execution_count": 15,
   "id": "075d77b9",
   "metadata": {},
   "outputs": [
    {
     "data": {
      "text/plain": [
       "testa croce     -1.000\n",
       "roulette        -1.000\n",
       "turista         -1.000\n",
       "turista x1000   -0.483\n",
       "Name: 0.05, dtype: float64"
      ]
     },
     "execution_count": 15,
     "metadata": {},
     "output_type": "execute_result"
    }
   ],
   "source": [
    "var = rm_df.quantile(0.05)\n",
    "var"
   ]
  },
  {
   "cell_type": "markdown",
   "id": "e446eba1",
   "metadata": {},
   "source": [
    "### CVaR\n",
    "Conditional Value at Risk\n",
    "\n",
    "Media dei casi sotto il 5 percentile"
   ]
  },
  {
   "cell_type": "code",
   "execution_count": 16,
   "id": "6b78613b",
   "metadata": {},
   "outputs": [
    {
     "data": {
      "text/plain": [
       "testa croce     -1.000000\n",
       "roulette        -1.000000\n",
       "turista         -1.000000\n",
       "turista x1000   -0.504176\n",
       "dtype: float64"
      ]
     },
     "execution_count": 16,
     "metadata": {},
     "output_type": "execute_result"
    }
   ],
   "source": [
    "cvar = rm_df[rm_df <= var].mean()\n",
    "cvar"
   ]
  },
  {
   "cell_type": "markdown",
   "id": "c72d1031",
   "metadata": {},
   "source": [
    "### Max drawdown\n",
    "Perdita dal massimo valore raggiunto durante l'investimento."
   ]
  },
  {
   "cell_type": "code",
   "execution_count": null,
   "id": "d8fb8bba",
   "metadata": {},
   "outputs": [],
   "source": []
  }
 ],
 "metadata": {
  "kernelspec": {
   "display_name": "base",
   "language": "python",
   "name": "python3"
  },
  "language_info": {
   "codemirror_mode": {
    "name": "ipython",
    "version": 3
   },
   "file_extension": ".py",
   "mimetype": "text/x-python",
   "name": "python",
   "nbconvert_exporter": "python",
   "pygments_lexer": "ipython3",
   "version": "3.12.7"
  }
 },
 "nbformat": 4,
 "nbformat_minor": 5
}
