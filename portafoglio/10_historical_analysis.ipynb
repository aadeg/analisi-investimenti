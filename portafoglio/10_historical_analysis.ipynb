{
 "cells": [
  {
   "cell_type": "code",
   "execution_count": 1,
   "id": "0ab4910b",
   "metadata": {},
   "outputs": [],
   "source": [
    "import numpy as np\n",
    "import pandas as pd\n",
    "import matplotlib\n",
    "import matplotlib.pyplot as plt\n",
    "import seaborn as sns\n",
    "import scipy\n",
    "sns.set_style(\"whitegrid\")\n",
    "# sns.set_theme()\n",
    "matplotlib.rcParams['figure.figsize'] = [9.0/2, 5.0/2]"
   ]
  },
  {
   "cell_type": "code",
   "execution_count": 2,
   "id": "759d79a5",
   "metadata": {},
   "outputs": [],
   "source": [
    "names = [\"MSCI World\", \"MSCI EM\", \"Gold\", \"Bond 1-3y\"]\n",
    "tickers = [\"EUNL.DE\", \"EUNM.DE\", \"8PSG.DE\", \"CBE3.L\"]"
   ]
  },
  {
   "cell_type": "markdown",
   "id": "322a87f8",
   "metadata": {},
   "source": [
    "## Prezzi ETF"
   ]
  },
  {
   "cell_type": "code",
   "execution_count": 5,
   "id": "efffebd1",
   "metadata": {},
   "outputs": [],
   "source": [
    "dfs = []\n",
    "for t in tickers:\n",
    "    df = pd.read_csv(f\"../dati/{t}.csv\", index_col=\"Date\")\n",
    "    dfs.append(df)"
   ]
  },
  {
   "cell_type": "code",
   "execution_count": null,
   "id": "cc528b32",
   "metadata": {},
   "outputs": [
    {
     "data": {
      "text/html": [
       "<div>\n",
       "<style scoped>\n",
       "    .dataframe tbody tr th:only-of-type {\n",
       "        vertical-align: middle;\n",
       "    }\n",
       "\n",
       "    .dataframe tbody tr th {\n",
       "        vertical-align: top;\n",
       "    }\n",
       "\n",
       "    .dataframe thead th {\n",
       "        text-align: right;\n",
       "    }\n",
       "</style>\n",
       "<table border=\"1\" class=\"dataframe\">\n",
       "  <thead>\n",
       "    <tr style=\"text-align: right;\">\n",
       "      <th></th>\n",
       "      <th>MSCI World</th>\n",
       "      <th>MSCI EM</th>\n",
       "      <th>Gold</th>\n",
       "      <th>Bond 1-3y</th>\n",
       "    </tr>\n",
       "    <tr>\n",
       "      <th>Date</th>\n",
       "      <th></th>\n",
       "      <th></th>\n",
       "      <th></th>\n",
       "      <th></th>\n",
       "    </tr>\n",
       "  </thead>\n",
       "  <tbody>\n",
       "    <tr>\n",
       "      <th>2010-10-01</th>\n",
       "      <td>19.299999</td>\n",
       "      <td>21.930000</td>\n",
       "      <td>131.139893</td>\n",
       "      <td>102.010002</td>\n",
       "    </tr>\n",
       "    <tr>\n",
       "      <th>2010-11-01</th>\n",
       "      <td>19.610001</td>\n",
       "      <td>21.980000</td>\n",
       "      <td>134.917603</td>\n",
       "      <td>102.010002</td>\n",
       "    </tr>\n",
       "    <tr>\n",
       "      <th>2010-12-01</th>\n",
       "      <td>20.490000</td>\n",
       "      <td>23.240000</td>\n",
       "      <td>137.972305</td>\n",
       "      <td>102.010002</td>\n",
       "    </tr>\n",
       "    <tr>\n",
       "      <th>2011-01-01</th>\n",
       "      <td>21.670000</td>\n",
       "      <td>24.410000</td>\n",
       "      <td>138.233795</td>\n",
       "      <td>102.010002</td>\n",
       "    </tr>\n",
       "    <tr>\n",
       "      <th>2011-02-01</th>\n",
       "      <td>21.450001</td>\n",
       "      <td>22.719999</td>\n",
       "      <td>132.529602</td>\n",
       "      <td>101.529999</td>\n",
       "    </tr>\n",
       "    <tr>\n",
       "      <th>...</th>\n",
       "      <td>...</td>\n",
       "      <td>...</td>\n",
       "      <td>...</td>\n",
       "      <td>...</td>\n",
       "    </tr>\n",
       "    <tr>\n",
       "      <th>2025-03-01</th>\n",
       "      <td>106.769997</td>\n",
       "      <td>38.462002</td>\n",
       "      <td>265.239990</td>\n",
       "      <td>114.070000</td>\n",
       "    </tr>\n",
       "    <tr>\n",
       "      <th>2025-04-01</th>\n",
       "      <td>98.036003</td>\n",
       "      <td>37.672001</td>\n",
       "      <td>279.500000</td>\n",
       "      <td>114.199997</td>\n",
       "    </tr>\n",
       "    <tr>\n",
       "      <th>2025-05-01</th>\n",
       "      <td>93.360001</td>\n",
       "      <td>35.785000</td>\n",
       "      <td>281.100006</td>\n",
       "      <td>114.800003</td>\n",
       "    </tr>\n",
       "    <tr>\n",
       "      <th>2025-06-01</th>\n",
       "      <td>98.769997</td>\n",
       "      <td>37.071999</td>\n",
       "      <td>282.820007</td>\n",
       "      <td>114.970001</td>\n",
       "    </tr>\n",
       "    <tr>\n",
       "      <th>2025-07-01</th>\n",
       "      <td>100.190002</td>\n",
       "      <td>38.622002</td>\n",
       "      <td>272.720001</td>\n",
       "      <td>115.089996</td>\n",
       "    </tr>\n",
       "  </tbody>\n",
       "</table>\n",
       "<p>178 rows × 4 columns</p>\n",
       "</div>"
      ],
      "text/plain": [
       "            MSCI World    MSCI EM        Gold   Bond 1-3y\n",
       "Date                                                     \n",
       "2010-10-01   19.299999  21.930000  131.139893  102.010002\n",
       "2010-11-01   19.610001  21.980000  134.917603  102.010002\n",
       "2010-12-01   20.490000  23.240000  137.972305  102.010002\n",
       "2011-01-01   21.670000  24.410000  138.233795  102.010002\n",
       "2011-02-01   21.450001  22.719999  132.529602  101.529999\n",
       "...                ...        ...         ...         ...\n",
       "2025-03-01  106.769997  38.462002  265.239990  114.070000\n",
       "2025-04-01   98.036003  37.672001  279.500000  114.199997\n",
       "2025-05-01   93.360001  35.785000  281.100006  114.800003\n",
       "2025-06-01   98.769997  37.071999  282.820007  114.970001\n",
       "2025-07-01  100.190002  38.622002  272.720001  115.089996\n",
       "\n",
       "[178 rows x 4 columns]"
      ]
     },
     "execution_count": 248,
     "metadata": {},
     "output_type": "execute_result"
    }
   ],
   "source": [
    "etfs = pd.concat(dfs, axis=1, sort=True)\n",
    "etfs.columns = names\n",
    "etfs = etfs.dropna(how=\"any\")\n",
    "etfs"
   ]
  },
  {
   "cell_type": "code",
   "execution_count": null,
   "id": "e21480ee",
   "metadata": {},
   "outputs": [
    {
     "name": "stdout",
     "output_type": "stream",
     "text": [
      "<class 'pandas.core.frame.DataFrame'>\n",
      "Index: 178 entries, 2010-10-01 to 2025-07-01\n",
      "Data columns (total 4 columns):\n",
      " #   Column      Non-Null Count  Dtype  \n",
      "---  ------      --------------  -----  \n",
      " 0   MSCI World  178 non-null    float64\n",
      " 1   MSCI EM     178 non-null    float64\n",
      " 2   Gold        178 non-null    float64\n",
      " 3   Bond 1-3y   178 non-null    float64\n",
      "dtypes: float64(4)\n",
      "memory usage: 7.0+ KB\n"
     ]
    }
   ],
   "source": [
    "etfs.info()"
   ]
  },
  {
   "cell_type": "code",
   "execution_count": null,
   "id": "3a7a43f4",
   "metadata": {},
   "outputs": [
    {
     "data": {
      "image/png": "[encoded data removed]",
      "text/plain": [
       "<Figure size 450x250 with 1 Axes>"
      ]
     },
     "metadata": {},
     "output_type": "display_data"
    }
   ],
   "source": [
    "etfs.plot(title=\"Prezzi\", ylabel=\"[€]\");"
   ]
  },
  {
   "cell_type": "markdown",
   "id": "bf673063",
   "metadata": {},
   "source": [
    "## Portafoglio base"
   ]
  },
  {
   "cell_type": "code",
   "execution_count": null,
   "id": "e377afb1",
   "metadata": {},
   "outputs": [],
   "source": [
    "# capitale = 10000\n",
    "anni = 5\n",
    "pesi = np.array([0.5, 0.3, 0.05, 0.15])"
   ]
  },
  {
   "cell_type": "code",
   "execution_count": null,
   "id": "2c93f5b7",
   "metadata": {},
   "outputs": [
    {
     "data": {
      "text/plain": [
       "['MSCI World', 'MSCI EM', 'Gold', 'Bond 1-3y']"
      ]
     },
     "execution_count": 252,
     "metadata": {},
     "output_type": "execute_result"
    }
   ],
   "source": [
    "names"
   ]
  },
  {
   "cell_type": "code",
   "execution_count": null,
   "id": "a5849248",
   "metadata": {},
   "outputs": [
    {
     "data": {
      "text/html": [
       "<div>\n",
       "<style scoped>\n",
       "    .dataframe tbody tr th:only-of-type {\n",
       "        vertical-align: middle;\n",
       "    }\n",
       "\n",
       "    .dataframe tbody tr th {\n",
       "        vertical-align: top;\n",
       "    }\n",
       "\n",
       "    .dataframe thead th {\n",
       "        text-align: right;\n",
       "    }\n",
       "</style>\n",
       "<table border=\"1\" class=\"dataframe\">\n",
       "  <thead>\n",
       "    <tr style=\"text-align: right;\">\n",
       "      <th></th>\n",
       "      <th>MSCI World</th>\n",
       "      <th>MSCI EM</th>\n",
       "      <th>Gold</th>\n",
       "      <th>Bond 1-3y</th>\n",
       "      <th>RTOT</th>\n",
       "    </tr>\n",
       "    <tr>\n",
       "      <th>Date</th>\n",
       "      <th></th>\n",
       "      <th></th>\n",
       "      <th></th>\n",
       "      <th></th>\n",
       "      <th></th>\n",
       "    </tr>\n",
       "  </thead>\n",
       "  <tbody>\n",
       "    <tr>\n",
       "      <th>2010-10-01</th>\n",
       "      <td>0.831606</td>\n",
       "      <td>-0.015048</td>\n",
       "      <td>-0.253088</td>\n",
       "      <td>0.093765</td>\n",
       "      <td>0.412699</td>\n",
       "    </tr>\n",
       "    <tr>\n",
       "      <th>2010-11-01</th>\n",
       "      <td>0.931157</td>\n",
       "      <td>0.045496</td>\n",
       "      <td>-0.247911</td>\n",
       "      <td>0.095089</td>\n",
       "      <td>0.481095</td>\n",
       "    </tr>\n",
       "    <tr>\n",
       "      <th>2010-12-01</th>\n",
       "      <td>0.944363</td>\n",
       "      <td>0.004733</td>\n",
       "      <td>-0.281450</td>\n",
       "      <td>0.096804</td>\n",
       "      <td>0.474050</td>\n",
       "    </tr>\n",
       "    <tr>\n",
       "      <th>2011-01-01</th>\n",
       "      <td>0.754961</td>\n",
       "      <td>-0.102827</td>\n",
       "      <td>-0.303065</td>\n",
       "      <td>0.096265</td>\n",
       "      <td>0.345919</td>\n",
       "    </tr>\n",
       "    <tr>\n",
       "      <th>2011-02-01</th>\n",
       "      <td>0.661072</td>\n",
       "      <td>-0.093750</td>\n",
       "      <td>-0.234511</td>\n",
       "      <td>0.101694</td>\n",
       "      <td>0.305940</td>\n",
       "    </tr>\n",
       "  </tbody>\n",
       "</table>\n",
       "</div>"
      ],
      "text/plain": [
       "            MSCI World   MSCI EM      Gold  Bond 1-3y      RTOT\n",
       "Date                                                           \n",
       "2010-10-01    0.831606 -0.015048 -0.253088   0.093765  0.412699\n",
       "2010-11-01    0.931157  0.045496 -0.247911   0.095089  0.481095\n",
       "2010-12-01    0.944363  0.004733 -0.281450   0.096804  0.474050\n",
       "2011-01-01    0.754961 -0.102827 -0.303065   0.096265  0.345919\n",
       "2011-02-01    0.661072 -0.093750 -0.234511   0.101694  0.305940"
      ]
     },
     "execution_count": 253,
     "metadata": {},
     "output_type": "execute_result"
    }
   ],
   "source": [
    "ptf = (etfs.shift(-anni*12) / etfs) - 1\n",
    "ptf = ptf.dropna(how=\"any\")\n",
    "ptf[\"RTOT\"] = (ptf * pesi).sum(axis=1)\n",
    "ptf.head()"
   ]
  },
  {
   "cell_type": "code",
   "execution_count": null,
   "id": "26b0f118",
   "metadata": {},
   "outputs": [
    {
     "data": {
      "text/plain": [
       "<Axes: xlabel='Date'>"
      ]
     },
     "execution_count": 254,
     "metadata": {},
     "output_type": "execute_result"
    },
    {
     "data": {
      "image/png": "[encoded data removed]",
      "text/plain": [
       "<Figure size 450x250 with 1 Axes>"
      ]
     },
     "metadata": {},
     "output_type": "display_data"
    }
   ],
   "source": [
    "ptf.plot()"
   ]
  },
  {
   "cell_type": "markdown",
   "id": "1439fb1f",
   "metadata": {},
   "source": [
    "### Statistiche"
   ]
  },
  {
   "cell_type": "code",
   "execution_count": null,
   "id": "86de3364",
   "metadata": {},
   "outputs": [
    {
     "data": {
      "text/plain": [
       "count    118.000000\n",
       "mean       0.467834\n",
       "std        0.117595\n",
       "min        0.050638\n",
       "25%        0.388588\n",
       "50%        0.477572\n",
       "75%        0.549727\n",
       "max        0.828596\n",
       "Name: RTOT, dtype: float64"
      ]
     },
     "execution_count": 255,
     "metadata": {},
     "output_type": "execute_result"
    }
   ],
   "source": [
    "ptf.RTOT.describe()"
   ]
  },
  {
   "cell_type": "markdown",
   "id": "1b735353",
   "metadata": {},
   "source": [
    "VaR:"
   ]
  },
  {
   "cell_type": "code",
   "execution_count": null,
   "id": "65a9b1b4",
   "metadata": {},
   "outputs": [
    {
     "data": {
      "text/plain": [
       "0.2915770032044977"
      ]
     },
     "execution_count": 256,
     "metadata": {},
     "output_type": "execute_result"
    }
   ],
   "source": [
    "var = ptf.RTOT.quantile(0.05)\n",
    "var"
   ]
  },
  {
   "cell_type": "markdown",
   "id": "ea43adf8",
   "metadata": {},
   "source": [
    "CVaR:"
   ]
  },
  {
   "cell_type": "code",
   "execution_count": null,
   "id": "b71c8c24",
   "metadata": {},
   "outputs": [
    {
     "data": {
      "text/plain": [
       "0.19202073799795502"
      ]
     },
     "execution_count": 257,
     "metadata": {},
     "output_type": "execute_result"
    }
   ],
   "source": [
    "cvar = ptf.RTOT[ptf.RTOT < var].mean()\n",
    "cvar"
   ]
  },
  {
   "cell_type": "markdown",
   "id": "fdbb16d6",
   "metadata": {},
   "source": [
    "## Portafoglio al variare dell'allocazione"
   ]
  },
  {
   "cell_type": "code",
   "execution_count": null,
   "id": "e6b81a3e",
   "metadata": {},
   "outputs": [],
   "source": [
    "def get_ptf(etfs, anni, pesi):\n",
    "    ptf = (etfs.shift(-anni*12) / etfs) - 1\n",
    "    ptf = ptf.dropna(how=\"any\")\n",
    "    ptf[\"RTOT\"] = (ptf * pesi).sum(axis=1)\n",
    "    return ptf\n",
    "\n",
    "def ptf_stats(ptf):\n",
    "    d = ptf.RTOT.describe()\n",
    "    d[\"VaR\"] = ptf.RTOT.quantile(0.05)\n",
    "    d[\"CVaR\"] = ptf.RTOT[ptf.RTOT < var].mean()\n",
    "    return d"
   ]
  },
  {
   "cell_type": "code",
   "execution_count": null,
   "id": "18589192",
   "metadata": {},
   "outputs": [
    {
     "data": {
      "text/plain": [
       "count    118.000000\n",
       "mean       0.747460\n",
       "std        0.177071\n",
       "min        0.126544\n",
       "25%        0.649552\n",
       "50%        0.767780\n",
       "75%        0.872953\n",
       "max        1.221125\n",
       "VaR        0.413392\n",
       "CVaR       0.126544\n",
       "Name: RTOT, dtype: float64"
      ]
     },
     "execution_count": 269,
     "metadata": {},
     "output_type": "execute_result"
    }
   ],
   "source": [
    "ptf100Az = get_ptf(etfs, anni, [1.0, 0, 0, 0])\n",
    "ptf_stats(ptf100Az)"
   ]
  },
  {
   "cell_type": "code",
   "execution_count": null,
   "id": "6aba5a37",
   "metadata": {},
   "outputs": [
    {
     "data": {
      "text/plain": [
       "count    118.000000\n",
       "mean       0.467834\n",
       "std        0.117595\n",
       "min        0.050638\n",
       "25%        0.388588\n",
       "50%        0.477572\n",
       "75%        0.549727\n",
       "max        0.828596\n",
       "VaR        0.291577\n",
       "CVaR       0.192021\n",
       "Name: RTOT, dtype: float64"
      ]
     },
     "execution_count": 272,
     "metadata": {},
     "output_type": "execute_result"
    }
   ],
   "source": [
    "ptf0 = get_ptf(etfs, anni, pesi)\n",
    "ptf_stats(ptf0)"
   ]
  },
  {
   "cell_type": "markdown",
   "id": "72579a0a",
   "metadata": {},
   "source": [
    "## Ottimizzazione"
   ]
  },
  {
   "cell_type": "code",
   "execution_count": null,
   "id": "44cc69fd",
   "metadata": {},
   "outputs": [],
   "source": [
    "from scipy.optimize import minimize, LinearConstraint, shgo"
   ]
  },
  {
   "cell_type": "code",
   "execution_count": null,
   "id": "e537e8d8",
   "metadata": {},
   "outputs": [
    {
     "name": "stdout",
     "output_type": "stream",
     "text": [
      "Optimization terminated successfully    (Exit mode 0)\n",
      "            Current function value: -0.262898053199645\n",
      "            Iterations: 14\n",
      "            Function evaluations: 142\n",
      "            Gradient evaluations: 14\n"
     ]
    }
   ],
   "source": [
    "optFn = lambda w: -ptf_stats(get_ptf(etfs, anni, w)).CVaR\n",
    "x0 = [0.0, 1.0, 0, 0]\n",
    "x0 = [1.0, 0.0, 0, 0]\n",
    "constraints = (\n",
    "    LinearConstraint([1, 1, 1, 1], lb=1.0, ub=1.0),\n",
    ")\n",
    "bounds = [(0, 1), (0, 1), (0, 1), (0, 1)]\n",
    "opts = {\"disp\": True}\n",
    "sol = minimize(optFn, x0, bounds=bounds, constraints=constraints, \n",
    "    options=opts)"
   ]
  },
  {
   "cell_type": "code",
   "execution_count": null,
   "id": "a5463abf",
   "metadata": {},
   "outputs": [
    {
     "data": {
      "text/plain": [
       " message: Optimization terminated successfully\n",
       " success: True\n",
       "  status: 0\n",
       "     fun: -0.262898053199645\n",
       "       x: [ 5.615e-01  3.996e-16  4.383e-01  2.034e-04]\n",
       "     nit: 14\n",
       "     jac: [-5.986e-01 -2.199e-02  1.670e-01 -7.132e-02]\n",
       "    nfev: 142\n",
       "    njev: 14"
      ]
     },
     "execution_count": 263,
     "metadata": {},
     "output_type": "execute_result"
    }
   ],
   "source": [
    "sol"
   ]
  },
  {
   "cell_type": "code",
   "execution_count": null,
   "id": "7466682a",
   "metadata": {},
   "outputs": [
    {
     "data": {
      "image/png": "[encoded data removed]",
      "text/plain": [
       "<Figure size 450x250 with 1 Axes>"
      ]
     },
     "metadata": {},
     "output_type": "display_data"
    }
   ],
   "source": [
    "plt.figure()\n",
    "plt.bar(names, sol.x);"
   ]
  },
  {
   "cell_type": "code",
   "execution_count": null,
   "id": "7c7b4228",
   "metadata": {},
   "outputs": [],
   "source": [
    "sol = shgo(optFn, bounds, constraints=constraints, \n",
    "    options=opts)"
   ]
  },
  {
   "cell_type": "code",
   "execution_count": null,
   "id": "01c7d6a6",
   "metadata": {},
   "outputs": [
    {
     "data": {
      "text/plain": [
       " message: Optimization terminated successfully.\n",
       " success: True\n",
       "     fun: -0.2629007240673604\n",
       "    funl: [-2.629e-01]\n",
       "       x: [ 5.615e-01  1.209e-16  4.385e-01  1.043e-08]\n",
       "      xl: [[ 5.615e-01  1.209e-16  4.385e-01  1.043e-08]]\n",
       "     nit: 1\n",
       "    nfev: 437\n",
       "   nlfev: 421\n",
       "   nljev: 37\n",
       "   nlhev: 0"
      ]
     },
     "execution_count": 266,
     "metadata": {},
     "output_type": "execute_result"
    }
   ],
   "source": [
    "sol"
   ]
  },
  {
   "cell_type": "code",
   "execution_count": null,
   "id": "8fe4d6d0",
   "metadata": {},
   "outputs": [
    {
     "data": {
      "image/png": "[encoded data removed]",
      "text/plain": [
       "<Figure size 450x250 with 1 Axes>"
      ]
     },
     "metadata": {},
     "output_type": "display_data"
    }
   ],
   "source": [
    "plt.figure()\n",
    "plt.bar(names, sol.x);"
   ]
  },
  {
   "cell_type": "code",
   "execution_count": null,
   "id": "958de4c7",
   "metadata": {},
   "outputs": [
    {
     "data": {
      "text/plain": [
       "count    118.000000\n",
       "mean       0.538426\n",
       "std        0.174855\n",
       "min        0.201688\n",
       "25%        0.412234\n",
       "50%        0.533154\n",
       "75%        0.626572\n",
       "max        1.119486\n",
       "VaR        0.288963\n",
       "CVaR       0.262901\n",
       "Name: RTOT, dtype: float64"
      ]
     },
     "execution_count": 273,
     "metadata": {},
     "output_type": "execute_result"
    }
   ],
   "source": [
    "pftOpt = get_ptf(etfs, anni, sol.x)\n",
    "ptf_stats(pftOpt)"
   ]
  },
  {
   "cell_type": "code",
   "execution_count": null,
   "id": "c17b97e9",
   "metadata": {},
   "outputs": [
    {
     "data": {
      "text/plain": [
       "<Axes: >"
      ]
     },
     "execution_count": 285,
     "metadata": {},
     "output_type": "execute_result"
    },
    {
     "data": {
      "image/png": "[encoded data removed]",
      "text/plain": [
       "<Figure size 450x250 with 1 Axes>"
      ]
     },
     "metadata": {},
     "output_type": "display_data"
    }
   ],
   "source": [
    "summary = pd.DataFrame()\n",
    "summary[\"100Az\"] = ptf100Az.RTOT\n",
    "summary[\"baseline\"] = ptf0.RTOT\n",
    "summary[\"optimized\"] = pftOpt.RTOT\n",
    "summary.plot(kind=\"box\", showmeans=True)"
   ]
  }
 ],
 "metadata": {
  "kernelspec": {
   "display_name": "base",
   "language": "python",
   "name": "python3"
  },
  "language_info": {
   "codemirror_mode": {
    "name": "ipython",
    "version": 3
   },
   "file_extension": ".py",
   "mimetype": "text/x-python",
   "name": "python",
   "nbconvert_exporter": "python",
   "pygments_lexer": "ipython3",
   "version": "3.12.7"
  }
 },
 "nbformat": 4,
 "nbformat_minor": 5
}
