{
 "cells": [
  {
   "cell_type": "code",
   "execution_count": 1,
   "id": "98d6cebf",
   "metadata": {},
   "outputs": [
    {
     "name": "stdout",
     "output_type": "stream",
     "text": [
      "Requirement already satisfied: yfinance in /opt/anaconda3/lib/python3.12/site-packages (0.2.65)\n",
      "Requirement already satisfied: pandas>=1.3.0 in /opt/anaconda3/lib/python3.12/site-packages (from yfinance) (2.2.2)\n",
      "Requirement already satisfied: numpy>=1.16.5 in /opt/anaconda3/lib/python3.12/site-packages (from yfinance) (1.26.4)\n",
      "Requirement already satisfied: requests>=2.31 in /opt/anaconda3/lib/python3.12/site-packages (from yfinance) (2.32.3)\n",
      "Requirement already satisfied: multitasking>=0.0.7 in /opt/anaconda3/lib/python3.12/site-packages (from yfinance) (0.0.12)\n",
      "Requirement already satisfied: platformdirs>=2.0.0 in /opt/anaconda3/lib/python3.12/site-packages (from yfinance) (3.10.0)\n",
      "Requirement already satisfied: pytz>=2022.5 in /opt/anaconda3/lib/python3.12/site-packages (from yfinance) (2024.1)\n",
      "Requirement already satisfied: frozendict>=2.3.4 in /opt/anaconda3/lib/python3.12/site-packages (from yfinance) (2.4.2)\n",
      "Requirement already satisfied: peewee>=3.16.2 in /opt/anaconda3/lib/python3.12/site-packages (from yfinance) (3.18.2)\n",
      "Requirement already satisfied: beautifulsoup4>=4.11.1 in /opt/anaconda3/lib/python3.12/site-packages (from yfinance) (4.12.3)\n",
      "Requirement already satisfied: curl_cffi>=0.7 in /opt/anaconda3/lib/python3.12/site-packages (from yfinance) (0.13.0)\n",
      "Requirement already satisfied: protobuf>=3.19.0 in /opt/anaconda3/lib/python3.12/site-packages (from yfinance) (4.25.3)\n",
      "Requirement already satisfied: websockets>=13.0 in /opt/anaconda3/lib/python3.12/site-packages (from yfinance) (15.0.1)\n",
      "Requirement already satisfied: soupsieve>1.2 in /opt/anaconda3/lib/python3.12/site-packages (from beautifulsoup4>=4.11.1->yfinance) (2.5)\n",
      "Requirement already satisfied: cffi>=1.12.0 in /opt/anaconda3/lib/python3.12/site-packages (from curl_cffi>=0.7->yfinance) (1.17.1)\n",
      "Requirement already satisfied: certifi>=2024.2.2 in /opt/anaconda3/lib/python3.12/site-packages (from curl_cffi>=0.7->yfinance) (2025.8.3)\n",
      "Requirement already satisfied: python-dateutil>=2.8.2 in /opt/anaconda3/lib/python3.12/site-packages (from pandas>=1.3.0->yfinance) (2.9.0.post0)\n",
      "Requirement already satisfied: tzdata>=2022.7 in /opt/anaconda3/lib/python3.12/site-packages (from pandas>=1.3.0->yfinance) (2023.3)\n",
      "Requirement already satisfied: charset-normalizer<4,>=2 in /opt/anaconda3/lib/python3.12/site-packages (from requests>=2.31->yfinance) (3.3.2)\n",
      "Requirement already satisfied: idna<4,>=2.5 in /opt/anaconda3/lib/python3.12/site-packages (from requests>=2.31->yfinance) (3.7)\n",
      "Requirement already satisfied: urllib3<3,>=1.21.1 in /opt/anaconda3/lib/python3.12/site-packages (from requests>=2.31->yfinance) (2.2.3)\n",
      "Requirement already satisfied: pycparser in /opt/anaconda3/lib/python3.12/site-packages (from cffi>=1.12.0->curl_cffi>=0.7->yfinance) (2.21)\n",
      "Requirement already satisfied: six>=1.5 in /opt/anaconda3/lib/python3.12/site-packages (from python-dateutil>=2.8.2->pandas>=1.3.0->yfinance) (1.16.0)\n",
      "Note: you may need to restart the kernel to use updated packages.\n"
     ]
    }
   ],
   "source": [
    "%pip install yfinance"
   ]
  },
  {
   "cell_type": "code",
   "execution_count": 2,
   "id": "21f2d3bd",
   "metadata": {},
   "outputs": [],
   "source": [
    "import numpy as np\n",
    "import pandas as pd\n",
    "import matplotlib\n",
    "import matplotlib.pyplot as plt\n",
    "import yfinance as yf\n",
    "import seaborn as sns\n",
    "sns.set_style(\"whitegrid\")\n",
    "# sns.set_theme()\n",
    "matplotlib.rcParams['figure.figsize'] = [9.0/2, 5.0/2]"
   ]
  },
  {
   "cell_type": "code",
   "execution_count": 3,
   "id": "36215383",
   "metadata": {},
   "outputs": [],
   "source": [
    "tickers = [\"EUNL.DE\", \"XMME.DE\", \"8PSG.DE\", \"CBE3.L\", \"EUNM.DE\", \"PPFB.DE\"]"
   ]
  },
  {
   "cell_type": "code",
   "execution_count": 4,
   "id": "79d88d8d",
   "metadata": {},
   "outputs": [
    {
     "name": "stderr",
     "output_type": "stream",
     "text": [
      "/tmp/ipykernel_14014/2339635376.py:2: FutureWarning: YF.download() has changed argument auto_adjust default to True\n",
      "  d = yf.download(t, interval=\"1mo\", start=\"1980-01-01\", end=\"2025-08-01\")\n",
      "[*********************100%***********************]  1 of 1 completed\n",
      "/tmp/ipykernel_14014/2339635376.py:2: FutureWarning: YF.download() has changed argument auto_adjust default to True\n",
      "  d = yf.download(t, interval=\"1mo\", start=\"1980-01-01\", end=\"2025-08-01\")\n",
      "[*********************100%***********************]  1 of 1 completed\n",
      "/tmp/ipykernel_14014/2339635376.py:2: FutureWarning: YF.download() has changed argument auto_adjust default to True\n",
      "  d = yf.download(t, interval=\"1mo\", start=\"1980-01-01\", end=\"2025-08-01\")\n",
      "[*********************100%***********************]  1 of 1 completed\n",
      "/tmp/ipykernel_14014/2339635376.py:2: FutureWarning: YF.download() has changed argument auto_adjust default to True\n",
      "  d = yf.download(t, interval=\"1mo\", start=\"1980-01-01\", end=\"2025-08-01\")\n",
      "[*********************100%***********************]  1 of 1 completed\n",
      "/tmp/ipykernel_14014/2339635376.py:2: FutureWarning: YF.download() has changed argument auto_adjust default to True\n",
      "  d = yf.download(t, interval=\"1mo\", start=\"1980-01-01\", end=\"2025-08-01\")\n",
      "[*********************100%***********************]  1 of 1 completed\n",
      "/tmp/ipykernel_14014/2339635376.py:2: FutureWarning: YF.download() has changed argument auto_adjust default to True\n",
      "  d = yf.download(t, interval=\"1mo\", start=\"1980-01-01\", end=\"2025-08-01\")\n",
      "[*********************100%***********************]  1 of 1 completed\n"
     ]
    }
   ],
   "source": [
    "for t in tickers:\n",
    "    d = yf.download(t, interval=\"1mo\", start=\"1980-01-01\", end=\"2025-08-01\")\n",
    "    d = d.iloc[:, 3]\n",
    "    d.name = t\n",
    "    d.to_csv(f\"../dati/{t}.csv\")"
   ]
  }
 ],
 "metadata": {
  "kernelspec": {
   "display_name": "base",
   "language": "python",
   "name": "python3"
  },
  "language_info": {
   "codemirror_mode": {
    "name": "ipython",
    "version": 3
   },
   "file_extension": ".py",
   "mimetype": "text/x-python",
   "name": "python",
   "nbconvert_exporter": "python",
   "pygments_lexer": "ipython3",
   "version": "3.12.7"
  }
 },
 "nbformat": 4,
 "nbformat_minor": 5
}
